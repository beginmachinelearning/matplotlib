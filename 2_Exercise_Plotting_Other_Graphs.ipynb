{
 "cells": [
  {
   "cell_type": "markdown",
   "metadata": {},
   "source": [
    "### 1. Create a list with values [20, 3, 5, 33, 41, 92, 74, 54, 80, 11, 26, 37, 64, 59, 33, 73, 26, 38, 44, 7]. We will call this the set of ages."
   ]
  },
  {
   "cell_type": "markdown",
   "metadata": {},
   "source": [
    "### 2. Plot a histogram for the age set with default values"
   ]
  },
  {
   "cell_type": "markdown",
   "metadata": {},
   "source": [
    "### 3. Plot the histogram for the age set with 20 partitions"
   ]
  },
  {
   "cell_type": "markdown",
   "metadata": {},
   "source": [
    "### 4. Plot the histogram for the age set with 5 partitions in green color with a transparency of 50%"
   ]
  },
  {
   "cell_type": "markdown",
   "metadata": {},
   "source": [
    "### 5. Create a housing data array with values [2000,2001,2002,2003,2004,2005,2006,2007,2008,2009,2010],[169191,182863,198087,224567,249191,276221,305637,322634,305269,242033,228268]. We will call this the housing array. Each row should contain 2 columns, the first one indicates the year and the second indicates the average price for the year\n",
    "                          \n",
    "                          "
   ]
  },
  {
   "cell_type": "markdown",
   "metadata": {},
   "source": [
    "### 6. Create a scatter plot which has the year on the X axis and the corresponding average value for the year on Y axis"
   ]
  },
  {
   "cell_type": "markdown",
   "metadata": {},
   "source": [
    "### 7. Create a bar chart which has the year on the X axis and the corresponding average value for the year on Y axis"
   ]
  },
  {
   "cell_type": "code",
   "execution_count": null,
   "metadata": {},
   "outputs": [],
   "source": []
  }
 ],
 "metadata": {
  "kernelspec": {
   "display_name": "TensorFlow-GPU",
   "language": "python",
   "name": "tf-gpu"
  },
  "language_info": {
   "codemirror_mode": {
    "name": "ipython",
    "version": 3
   },
   "file_extension": ".py",
   "mimetype": "text/x-python",
   "name": "python",
   "nbconvert_exporter": "python",
   "pygments_lexer": "ipython3",
   "version": "3.6.6"
  }
 },
 "nbformat": 4,
 "nbformat_minor": 2
}
