{
 "cells": [
  {
   "cell_type": "markdown",
   "metadata": {},
   "source": [
    "### 1. Create an array with the data as follows houseprice_year=np.array([[2000,2001,2002,2003,2004,2005,2006,2007,2008,2009,2010],[169191,182863,198087,224567,249191,276221,305637,322634,305269,242033,228268]], np.int32)"
   ]
  },
  {
   "cell_type": "markdown",
   "metadata": {},
   "source": [
    "### 2. Plot a scatter plot with year on the X axis and price on the Y axis, set a title for the graph"
   ]
  },
  {
   "cell_type": "markdown",
   "metadata": {},
   "source": [
    "### 3. In the previous plot, you will notice that the X axis values have been set by default. Change the values on the axis to show the year only at 2000, 2004, 2008, 2012"
   ]
  },
  {
   "cell_type": "markdown",
   "metadata": {},
   "source": [
    "### 4. Change the X axis values to \"Year 2000\", \"4 Years Later\", \"8 Years Later\", \"12 Years Later\""
   ]
  },
  {
   "cell_type": "markdown",
   "metadata": {},
   "source": [
    "### 5. Rotate the X axis labels to 30 degrees"
   ]
  },
  {
   "cell_type": "markdown",
   "metadata": {},
   "source": [
    "### 6. Plot 3 scatter plots in the same graph. Use random integers for the data. For example, in the last plot you displayed Year Vs Price in the graph. The exercise is to display 2 more such plots within the same graph. Example here: https://i.stack.imgur.com/zySCr.png"
   ]
  },
  {
   "cell_type": "code",
   "execution_count": null,
   "metadata": {},
   "outputs": [],
   "source": []
  }
 ],
 "metadata": {
  "kernelspec": {
   "display_name": "TensorFlow-GPU",
   "language": "python",
   "name": "tf-gpu"
  },
  "language_info": {
   "codemirror_mode": {
    "name": "ipython",
    "version": 3
   },
   "file_extension": ".py",
   "mimetype": "text/x-python",
   "name": "python",
   "nbconvert_exporter": "python",
   "pygments_lexer": "ipython3",
   "version": "3.6.6"
  }
 },
 "nbformat": 4,
 "nbformat_minor": 2
}
