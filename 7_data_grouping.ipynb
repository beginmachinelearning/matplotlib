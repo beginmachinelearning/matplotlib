{
 "cells": [
  {
   "cell_type": "code",
   "execution_count": 2,
   "metadata": {},
   "outputs": [],
   "source": [
    "%matplotlib notebook\n",
    "import matplotlib.pyplot as plt\n",
    "import numpy as np\n",
    "import random\n",
    "import pandas as pd\n"
   ]
  },
  {
   "cell_type": "code",
   "execution_count": 47,
   "metadata": {},
   "outputs": [],
   "source": [
    "employee_info=[['John', 32, 421211, 'Sales', 'Florida'],\n",
    "              ['Jim', 22, 187112, 'Facilties', 'California'],\n",
    "              ['Joe', 41, 512111, 'Technology', 'Florida'],\n",
    "              ['Jack', 42, 499123, 'Technology', 'Florida'],\n",
    "              ['Kim', 51, 613221,'Management', 'California'],\n",
    "              ['Lynn', 23, 164444,'Sales', 'California'],\n",
    "              ['Bob', 31, 253122,'Accounts', 'Florida'],\n",
    "              ['Adam', 27, 211412,'Technology', 'Florida'],\n",
    "              ['Paul', 37, 378123,'HR', 'California'],\n",
    "              ['Samantha', 21, 142122,  'HR', 'Florida']]"
   ]
  },
  {
   "cell_type": "code",
   "execution_count": 48,
   "metadata": {},
   "outputs": [],
   "source": [
    "dataframe_employee_info=pd.DataFrame(student_info, columns=['Name', 'Age', 'Annual Salary', 'Department', 'State'])"
   ]
  },
  {
   "cell_type": "code",
   "execution_count": 49,
   "metadata": {},
   "outputs": [
    {
     "data": {
      "text/html": [
       "<div>\n",
       "<style scoped>\n",
       "    .dataframe tbody tr th:only-of-type {\n",
       "        vertical-align: middle;\n",
       "    }\n",
       "\n",
       "    .dataframe tbody tr th {\n",
       "        vertical-align: top;\n",
       "    }\n",
       "\n",
       "    .dataframe thead th {\n",
       "        text-align: right;\n",
       "    }\n",
       "</style>\n",
       "<table border=\"1\" class=\"dataframe\">\n",
       "  <thead>\n",
       "    <tr style=\"text-align: right;\">\n",
       "      <th></th>\n",
       "      <th>Name</th>\n",
       "      <th>Age</th>\n",
       "      <th>Annual Salary</th>\n",
       "      <th>Department</th>\n",
       "      <th>State</th>\n",
       "    </tr>\n",
       "  </thead>\n",
       "  <tbody>\n",
       "    <tr>\n",
       "      <th>0</th>\n",
       "      <td>John</td>\n",
       "      <td>32</td>\n",
       "      <td>421211</td>\n",
       "      <td>Sales</td>\n",
       "      <td>Florida</td>\n",
       "    </tr>\n",
       "    <tr>\n",
       "      <th>1</th>\n",
       "      <td>Jim</td>\n",
       "      <td>22</td>\n",
       "      <td>187112</td>\n",
       "      <td>Facilties</td>\n",
       "      <td>California</td>\n",
       "    </tr>\n",
       "    <tr>\n",
       "      <th>2</th>\n",
       "      <td>Joe</td>\n",
       "      <td>41</td>\n",
       "      <td>512111</td>\n",
       "      <td>Technology</td>\n",
       "      <td>Florida</td>\n",
       "    </tr>\n",
       "    <tr>\n",
       "      <th>3</th>\n",
       "      <td>Jack</td>\n",
       "      <td>42</td>\n",
       "      <td>499123</td>\n",
       "      <td>Technology</td>\n",
       "      <td>Florida</td>\n",
       "    </tr>\n",
       "    <tr>\n",
       "      <th>4</th>\n",
       "      <td>Kim</td>\n",
       "      <td>51</td>\n",
       "      <td>613221</td>\n",
       "      <td>Management</td>\n",
       "      <td>California</td>\n",
       "    </tr>\n",
       "    <tr>\n",
       "      <th>5</th>\n",
       "      <td>Lynn</td>\n",
       "      <td>23</td>\n",
       "      <td>164444</td>\n",
       "      <td>Sales</td>\n",
       "      <td>California</td>\n",
       "    </tr>\n",
       "    <tr>\n",
       "      <th>6</th>\n",
       "      <td>Bob</td>\n",
       "      <td>31</td>\n",
       "      <td>253122</td>\n",
       "      <td>Accounts</td>\n",
       "      <td>Florida</td>\n",
       "    </tr>\n",
       "    <tr>\n",
       "      <th>7</th>\n",
       "      <td>Adam</td>\n",
       "      <td>27</td>\n",
       "      <td>211412</td>\n",
       "      <td>Technology</td>\n",
       "      <td>Florida</td>\n",
       "    </tr>\n",
       "    <tr>\n",
       "      <th>8</th>\n",
       "      <td>Paul</td>\n",
       "      <td>37</td>\n",
       "      <td>378123</td>\n",
       "      <td>HR</td>\n",
       "      <td>California</td>\n",
       "    </tr>\n",
       "    <tr>\n",
       "      <th>9</th>\n",
       "      <td>Samantha</td>\n",
       "      <td>21</td>\n",
       "      <td>142122</td>\n",
       "      <td>HR</td>\n",
       "      <td>Florida</td>\n",
       "    </tr>\n",
       "  </tbody>\n",
       "</table>\n",
       "</div>"
      ],
      "text/plain": [
       "       Name  Age  Annual Salary  Department       State\n",
       "0      John   32         421211       Sales     Florida\n",
       "1       Jim   22         187112   Facilties  California\n",
       "2       Joe   41         512111  Technology     Florida\n",
       "3      Jack   42         499123  Technology     Florida\n",
       "4       Kim   51         613221  Management  California\n",
       "5      Lynn   23         164444       Sales  California\n",
       "6       Bob   31         253122    Accounts     Florida\n",
       "7      Adam   27         211412  Technology     Florida\n",
       "8      Paul   37         378123          HR  California\n",
       "9  Samantha   21         142122          HR     Florida"
      ]
     },
     "execution_count": 49,
     "metadata": {},
     "output_type": "execute_result"
    }
   ],
   "source": [
    "dataframe_employee_info"
   ]
  },
  {
   "cell_type": "code",
   "execution_count": 50,
   "metadata": {},
   "outputs": [],
   "source": [
    "department_group=dataframe_employee_info['Annual Salary'].groupby(dataframe_employee_info['Department'])"
   ]
  },
  {
   "cell_type": "code",
   "execution_count": 51,
   "metadata": {},
   "outputs": [
    {
     "data": {
      "text/plain": [
       "Department\n",
       "Accounts       253122\n",
       "Facilties      187112\n",
       "HR             520245\n",
       "Management     613221\n",
       "Sales          585655\n",
       "Technology    1222646\n",
       "Name: Annual Salary, dtype: int64"
      ]
     },
     "execution_count": 51,
     "metadata": {},
     "output_type": "execute_result"
    }
   ],
   "source": [
    "department_group.sum()"
   ]
  },
  {
   "cell_type": "code",
   "execution_count": 52,
   "metadata": {},
   "outputs": [
    {
     "data": {
      "text/plain": [
       "Department\n",
       "Accounts      253122.000000\n",
       "Facilties     187112.000000\n",
       "HR            260122.500000\n",
       "Management    613221.000000\n",
       "Sales         292827.500000\n",
       "Technology    407548.666667\n",
       "Name: Annual Salary, dtype: float64"
      ]
     },
     "execution_count": 52,
     "metadata": {},
     "output_type": "execute_result"
    }
   ],
   "source": [
    "department_group.mean()"
   ]
  },
  {
   "cell_type": "markdown",
   "metadata": {},
   "source": [
    "## You don't have to choose the data column before hand, just the grouping column also works"
   ]
  },
  {
   "cell_type": "code",
   "execution_count": 67,
   "metadata": {},
   "outputs": [],
   "source": [
    "department_group_alternative=dataframe_employee_info.groupby(dataframe_employee_info['Department'])"
   ]
  },
  {
   "cell_type": "code",
   "execution_count": 69,
   "metadata": {},
   "outputs": [
    {
     "data": {
      "text/plain": [
       "Department\n",
       "Accounts      31\n",
       "Facilties     22\n",
       "HR            21\n",
       "Management    51\n",
       "Sales         23\n",
       "Technology    27\n",
       "Name: Age, dtype: int64"
      ]
     },
     "execution_count": 69,
     "metadata": {},
     "output_type": "execute_result"
    }
   ],
   "source": [
    "## Youngest by department\n",
    "department_group_alternative['Age'].min()"
   ]
  },
  {
   "cell_type": "code",
   "execution_count": 70,
   "metadata": {},
   "outputs": [
    {
     "data": {
      "text/plain": [
       "Department\n",
       "Accounts      253122\n",
       "Facilties     187112\n",
       "HR            378123\n",
       "Management    613221\n",
       "Sales         421211\n",
       "Technology    512111\n",
       "Name: Annual Salary, dtype: int64"
      ]
     },
     "execution_count": 70,
     "metadata": {},
     "output_type": "execute_result"
    }
   ],
   "source": [
    "## Highesh paid in a department\n",
    "department_group_alternative['Annual Salary'].max()"
   ]
  },
  {
   "cell_type": "code",
   "execution_count": 53,
   "metadata": {},
   "outputs": [],
   "source": [
    "department_sal_group_dual=dataframe_employee_info['Annual Salary'].groupby([dataframe_employee_info['Department'], dataframe_employee_info['State']])"
   ]
  },
  {
   "cell_type": "code",
   "execution_count": 54,
   "metadata": {},
   "outputs": [
    {
     "data": {
      "text/plain": [
       "Department  State     \n",
       "Accounts    Florida       253122.000000\n",
       "Facilties   California    187112.000000\n",
       "HR          California    378123.000000\n",
       "            Florida       142122.000000\n",
       "Management  California    613221.000000\n",
       "Sales       California    164444.000000\n",
       "            Florida       421211.000000\n",
       "Technology  Florida       407548.666667\n",
       "Name: Annual Salary, dtype: float64"
      ]
     },
     "execution_count": 54,
     "metadata": {},
     "output_type": "execute_result"
    }
   ],
   "source": [
    "department_sal_group_dual.mean()"
   ]
  },
  {
   "cell_type": "code",
   "execution_count": 55,
   "metadata": {},
   "outputs": [
    {
     "data": {
      "text/html": [
       "<div>\n",
       "<style scoped>\n",
       "    .dataframe tbody tr th:only-of-type {\n",
       "        vertical-align: middle;\n",
       "    }\n",
       "\n",
       "    .dataframe tbody tr th {\n",
       "        vertical-align: top;\n",
       "    }\n",
       "\n",
       "    .dataframe thead th {\n",
       "        text-align: right;\n",
       "    }\n",
       "</style>\n",
       "<table border=\"1\" class=\"dataframe\">\n",
       "  <thead>\n",
       "    <tr style=\"text-align: right;\">\n",
       "      <th>State</th>\n",
       "      <th>California</th>\n",
       "      <th>Florida</th>\n",
       "    </tr>\n",
       "    <tr>\n",
       "      <th>Department</th>\n",
       "      <th></th>\n",
       "      <th></th>\n",
       "    </tr>\n",
       "  </thead>\n",
       "  <tbody>\n",
       "    <tr>\n",
       "      <th>Accounts</th>\n",
       "      <td>NaN</td>\n",
       "      <td>253122.000000</td>\n",
       "    </tr>\n",
       "    <tr>\n",
       "      <th>Facilties</th>\n",
       "      <td>187112.0</td>\n",
       "      <td>NaN</td>\n",
       "    </tr>\n",
       "    <tr>\n",
       "      <th>HR</th>\n",
       "      <td>378123.0</td>\n",
       "      <td>142122.000000</td>\n",
       "    </tr>\n",
       "    <tr>\n",
       "      <th>Management</th>\n",
       "      <td>613221.0</td>\n",
       "      <td>NaN</td>\n",
       "    </tr>\n",
       "    <tr>\n",
       "      <th>Sales</th>\n",
       "      <td>164444.0</td>\n",
       "      <td>421211.000000</td>\n",
       "    </tr>\n",
       "    <tr>\n",
       "      <th>Technology</th>\n",
       "      <td>NaN</td>\n",
       "      <td>407548.666667</td>\n",
       "    </tr>\n",
       "  </tbody>\n",
       "</table>\n",
       "</div>"
      ],
      "text/plain": [
       "State       California        Florida\n",
       "Department                           \n",
       "Accounts           NaN  253122.000000\n",
       "Facilties     187112.0            NaN\n",
       "HR            378123.0  142122.000000\n",
       "Management    613221.0            NaN\n",
       "Sales         164444.0  421211.000000\n",
       "Technology         NaN  407548.666667"
      ]
     },
     "execution_count": 55,
     "metadata": {},
     "output_type": "execute_result"
    }
   ],
   "source": [
    "department_sal_group_dual.mean().unstack()"
   ]
  },
  {
   "cell_type": "code",
   "execution_count": 56,
   "metadata": {},
   "outputs": [
    {
     "name": "stdout",
     "output_type": "stream",
     "text": [
      "Accounts :\n",
      "   Name  Age  Annual Salary Department    State\n",
      "6  Bob   31         253122   Accounts  Florida \n",
      "\n",
      "Facilties :\n",
      "   Name  Age  Annual Salary Department       State\n",
      "1  Jim   22         187112  Facilties  California \n",
      "\n",
      "HR :\n",
      "        Name  Age  Annual Salary Department       State\n",
      "8      Paul   37         378123         HR  California\n",
      "9  Samantha   21         142122         HR     Florida \n",
      "\n",
      "Management :\n",
      "   Name  Age  Annual Salary  Department       State\n",
      "4  Kim   51         613221  Management  California \n",
      "\n",
      "Sales :\n",
      "    Name  Age  Annual Salary Department       State\n",
      "0  John   32         421211      Sales     Florida\n",
      "5  Lynn   23         164444      Sales  California \n",
      "\n",
      "Technology :\n",
      "    Name  Age  Annual Salary  Department    State\n",
      "2   Joe   41         512111  Technology  Florida\n",
      "3  Jack   42         499123  Technology  Florida\n",
      "7  Adam   27         211412  Technology  Florida \n",
      "\n"
     ]
    }
   ],
   "source": [
    "for name, group in dataframe_employee_info.groupby('Department'):\n",
    "    print(name, ':\\n' , group, '\\n')\n",
    "   "
   ]
  },
  {
   "cell_type": "markdown",
   "metadata": {},
   "source": [
    "### Let us make the grouping code shorter"
   ]
  },
  {
   "cell_type": "code",
   "execution_count": 57,
   "metadata": {},
   "outputs": [],
   "source": [
    "department_group_long=dataframe_employee_info['Annual Salary'].groupby(dataframe_employee_info['Department'])"
   ]
  },
  {
   "cell_type": "code",
   "execution_count": 58,
   "metadata": {},
   "outputs": [],
   "source": [
    "department_group_short=dataframe_employee_info.groupby('Department')['Annual Salary']##Note the reverse order"
   ]
  },
  {
   "cell_type": "code",
   "execution_count": 59,
   "metadata": {},
   "outputs": [
    {
     "data": {
      "text/plain": [
       "Department\n",
       "Accounts      253122.000000\n",
       "Facilties     187112.000000\n",
       "HR            260122.500000\n",
       "Management    613221.000000\n",
       "Sales         292827.500000\n",
       "Technology    407548.666667\n",
       "Name: Annual Salary, dtype: float64"
      ]
     },
     "execution_count": 59,
     "metadata": {},
     "output_type": "execute_result"
    }
   ],
   "source": [
    "department_group_long.mean()"
   ]
  },
  {
   "cell_type": "code",
   "execution_count": 60,
   "metadata": {},
   "outputs": [
    {
     "data": {
      "text/plain": [
       "Department\n",
       "Accounts      253122.000000\n",
       "Facilties     187112.000000\n",
       "HR            260122.500000\n",
       "Management    613221.000000\n",
       "Sales         292827.500000\n",
       "Technology    407548.666667\n",
       "Name: Annual Salary, dtype: float64"
      ]
     },
     "execution_count": 60,
     "metadata": {},
     "output_type": "execute_result"
    }
   ],
   "source": [
    "department_group_short.mean()"
   ]
  },
  {
   "cell_type": "markdown",
   "metadata": {},
   "source": [
    "# count\tNumber of non-NA values in the group\n",
    "# sum\tSum of non-NA values\n",
    "# mean\tMean of non-NA values\n",
    "# median\tArithmetic median of non-NA values\n",
    "# std, var\tUnbiased (n – 1 denominator) standard deviation and variance\n",
    "# min, max\tMinimum and maximum of non-NA values\n",
    "# prod\tProduct of non-NA values\n",
    "# first, last\tFirst and last non-NA values"
   ]
  },
  {
   "cell_type": "markdown",
   "metadata": {},
   "source": [
    "## Let us define our own function"
   ]
  },
  {
   "cell_type": "code",
   "execution_count": 61,
   "metadata": {},
   "outputs": [],
   "source": [
    "# We want to know salary by department after a 10% hike"
   ]
  },
  {
   "cell_type": "code",
   "execution_count": 62,
   "metadata": {},
   "outputs": [],
   "source": [
    "def increaser_sal_group(employee_sal_info):\n",
    "    return employee_sal_info*1.1"
   ]
  },
  {
   "cell_type": "code",
   "execution_count": 63,
   "metadata": {},
   "outputs": [
    {
     "data": {
      "text/plain": [
       "Department\n",
       "Accounts                                        278434\n",
       "Facilties                                       205823\n",
       "HR                      [415935.30000000005, 156334.2]\n",
       "Management                                      674543\n",
       "Sales         [463332.10000000003, 180888.40000000002]\n",
       "Technology     [563322.1000000001, 549035.3, 232553.2]\n",
       "Name: Annual Salary, dtype: object"
      ]
     },
     "execution_count": 63,
     "metadata": {},
     "output_type": "execute_result"
    }
   ],
   "source": [
    "grouped = dataframe_employee_info.groupby('Department')\n",
    "grouped['Annual Salary'].agg(increaser_sal_group)"
   ]
  },
  {
   "cell_type": "markdown",
   "metadata": {},
   "source": [
    "## Congratulations on your hike, ladies and gentlemen"
   ]
  },
  {
   "cell_type": "markdown",
   "metadata": {},
   "source": [
    "## Using the apply method"
   ]
  },
  {
   "cell_type": "code",
   "execution_count": null,
   "metadata": {},
   "outputs": [],
   "source": [
    "#Let us define a function which chooses the top n rows in a group\n",
    "def topn(dataframe, n, column)\n",
    "    dataframe.sort_valuespython logo"
   ]
  }
 ],
 "metadata": {
  "kernelspec": {
   "display_name": "Python 3",
   "language": "python",
   "name": "python3"
  },
  "language_info": {
   "codemirror_mode": {
    "name": "ipython",
    "version": 3
   },
   "file_extension": ".py",
   "mimetype": "text/x-python",
   "name": "python",
   "nbconvert_exporter": "python",
   "pygments_lexer": "ipython3",
   "version": "3.6.4"
  }
 },
 "nbformat": 4,
 "nbformat_minor": 2
}
