{
 "cells": [
  {
   "cell_type": "code",
   "execution_count": 1,
   "metadata": {},
   "outputs": [],
   "source": [
    "%matplotlib notebook\n",
    "import matplotlib.pyplot as plt\n",
    "import numpy as np\n",
    "import random\n",
    "import pandas as pd\n"
   ]
  },
  {
   "cell_type": "code",
   "execution_count": 29,
   "metadata": {},
   "outputs": [],
   "source": [
    "student_info=[['John', 32, 421211, 'Sales', 'Florida'],\n",
    "              ['Jim', 22, 187112, 'Facilties', 'California'],\n",
    "              ['Joe', 41, 512111, 'Technology', 'Florida'],\n",
    "              ['Jack', 42, 499123, 'Technology', 'Florida'],\n",
    "              ['Kim', 51, 613221,'Management', 'California'],\n",
    "              ['Lynn', 23, 164444,'Sales', 'California'],\n",
    "              ['Bob', 31, 253122,'Accounts', 'Florida'],\n",
    "              ['Adam', 27, 211412,'Technology', 'Florida'],\n",
    "              ['Paul', 37, 378123,'HR', 'California'],\n",
    "              ['Samantha', 21, 142122,  'HR', 'Florida']]"
   ]
  },
  {
   "cell_type": "code",
   "execution_count": 30,
   "metadata": {},
   "outputs": [],
   "source": [
    "dataframe_student_info=pd.DataFrame(student_info, columns=['Name', 'Age', 'Annual Salary', 'Department', 'State'])"
   ]
  },
  {
   "cell_type": "code",
   "execution_count": 31,
   "metadata": {},
   "outputs": [
    {
     "data": {
      "text/html": [
       "<div>\n",
       "<style scoped>\n",
       "    .dataframe tbody tr th:only-of-type {\n",
       "        vertical-align: middle;\n",
       "    }\n",
       "\n",
       "    .dataframe tbody tr th {\n",
       "        vertical-align: top;\n",
       "    }\n",
       "\n",
       "    .dataframe thead th {\n",
       "        text-align: right;\n",
       "    }\n",
       "</style>\n",
       "<table border=\"1\" class=\"dataframe\">\n",
       "  <thead>\n",
       "    <tr style=\"text-align: right;\">\n",
       "      <th></th>\n",
       "      <th>Name</th>\n",
       "      <th>Age</th>\n",
       "      <th>Annual Salary</th>\n",
       "      <th>Department</th>\n",
       "      <th>State</th>\n",
       "    </tr>\n",
       "  </thead>\n",
       "  <tbody>\n",
       "    <tr>\n",
       "      <th>0</th>\n",
       "      <td>John</td>\n",
       "      <td>32</td>\n",
       "      <td>421211</td>\n",
       "      <td>Sales</td>\n",
       "      <td>Florida</td>\n",
       "    </tr>\n",
       "    <tr>\n",
       "      <th>1</th>\n",
       "      <td>Jim</td>\n",
       "      <td>22</td>\n",
       "      <td>187112</td>\n",
       "      <td>Facilties</td>\n",
       "      <td>California</td>\n",
       "    </tr>\n",
       "    <tr>\n",
       "      <th>2</th>\n",
       "      <td>Joe</td>\n",
       "      <td>41</td>\n",
       "      <td>512111</td>\n",
       "      <td>Technology</td>\n",
       "      <td>Florida</td>\n",
       "    </tr>\n",
       "    <tr>\n",
       "      <th>3</th>\n",
       "      <td>Jack</td>\n",
       "      <td>42</td>\n",
       "      <td>499123</td>\n",
       "      <td>Technology</td>\n",
       "      <td>Florida</td>\n",
       "    </tr>\n",
       "    <tr>\n",
       "      <th>4</th>\n",
       "      <td>Kim</td>\n",
       "      <td>51</td>\n",
       "      <td>613221</td>\n",
       "      <td>Management</td>\n",
       "      <td>California</td>\n",
       "    </tr>\n",
       "    <tr>\n",
       "      <th>5</th>\n",
       "      <td>Lynn</td>\n",
       "      <td>23</td>\n",
       "      <td>164444</td>\n",
       "      <td>Sales</td>\n",
       "      <td>California</td>\n",
       "    </tr>\n",
       "    <tr>\n",
       "      <th>6</th>\n",
       "      <td>Bob</td>\n",
       "      <td>31</td>\n",
       "      <td>253122</td>\n",
       "      <td>Accounts</td>\n",
       "      <td>Florida</td>\n",
       "    </tr>\n",
       "    <tr>\n",
       "      <th>7</th>\n",
       "      <td>Adam</td>\n",
       "      <td>27</td>\n",
       "      <td>211412</td>\n",
       "      <td>Technology</td>\n",
       "      <td>Florida</td>\n",
       "    </tr>\n",
       "    <tr>\n",
       "      <th>8</th>\n",
       "      <td>Paul</td>\n",
       "      <td>37</td>\n",
       "      <td>378123</td>\n",
       "      <td>HR</td>\n",
       "      <td>California</td>\n",
       "    </tr>\n",
       "    <tr>\n",
       "      <th>9</th>\n",
       "      <td>Samantha</td>\n",
       "      <td>21</td>\n",
       "      <td>142122</td>\n",
       "      <td>HR</td>\n",
       "      <td>Florida</td>\n",
       "    </tr>\n",
       "  </tbody>\n",
       "</table>\n",
       "</div>"
      ],
      "text/plain": [
       "       Name  Age  Annual Salary  Department       State\n",
       "0      John   32         421211       Sales     Florida\n",
       "1       Jim   22         187112   Facilties  California\n",
       "2       Joe   41         512111  Technology     Florida\n",
       "3      Jack   42         499123  Technology     Florida\n",
       "4       Kim   51         613221  Management  California\n",
       "5      Lynn   23         164444       Sales  California\n",
       "6       Bob   31         253122    Accounts     Florida\n",
       "7      Adam   27         211412  Technology     Florida\n",
       "8      Paul   37         378123          HR  California\n",
       "9  Samantha   21         142122          HR     Florida"
      ]
     },
     "execution_count": 31,
     "metadata": {},
     "output_type": "execute_result"
    }
   ],
   "source": [
    "dataframe_student_info"
   ]
  },
  {
   "cell_type": "code",
   "execution_count": 46,
   "metadata": {},
   "outputs": [],
   "source": [
    "department_group=dataframe_student_info['Annual Salary'].groupby(dataframe_student_info['Department'])"
   ]
  },
  {
   "cell_type": "code",
   "execution_count": 47,
   "metadata": {},
   "outputs": [
    {
     "data": {
      "text/plain": [
       "Department\n",
       "Accounts       253122\n",
       "Facilties      187112\n",
       "HR             520245\n",
       "Management     613221\n",
       "Sales          585655\n",
       "Technology    1222646\n",
       "Name: Annual Salary, dtype: int64"
      ]
     },
     "execution_count": 47,
     "metadata": {},
     "output_type": "execute_result"
    }
   ],
   "source": [
    "department_group.sum()"
   ]
  },
  {
   "cell_type": "code",
   "execution_count": 48,
   "metadata": {},
   "outputs": [
    {
     "data": {
      "text/plain": [
       "Department\n",
       "Accounts      253122.000000\n",
       "Facilties     187112.000000\n",
       "HR            260122.500000\n",
       "Management    613221.000000\n",
       "Sales         292827.500000\n",
       "Technology    407548.666667\n",
       "Name: Annual Salary, dtype: float64"
      ]
     },
     "execution_count": 48,
     "metadata": {},
     "output_type": "execute_result"
    }
   ],
   "source": [
    "department_group.mean()"
   ]
  },
  {
   "cell_type": "code",
   "execution_count": 36,
   "metadata": {},
   "outputs": [],
   "source": [
    "department_sal_group_dual=dataframe_student_info['Annual Salary'].groupby([dataframe_student_info['Department'], dataframe_student_info['State']])"
   ]
  },
  {
   "cell_type": "code",
   "execution_count": 38,
   "metadata": {},
   "outputs": [
    {
     "data": {
      "text/plain": [
       "Department  State     \n",
       "Accounts    Florida       253122.000000\n",
       "Facilties   California    187112.000000\n",
       "HR          California    378123.000000\n",
       "            Florida       142122.000000\n",
       "Management  California    613221.000000\n",
       "Sales       California    164444.000000\n",
       "            Florida       421211.000000\n",
       "Technology  Florida       407548.666667\n",
       "Name: Annual Salary, dtype: float64"
      ]
     },
     "execution_count": 38,
     "metadata": {},
     "output_type": "execute_result"
    }
   ],
   "source": [
    "department__sal_group_dual.mean()"
   ]
  },
  {
   "cell_type": "code",
   "execution_count": 40,
   "metadata": {},
   "outputs": [
    {
     "data": {
      "text/html": [
       "<div>\n",
       "<style scoped>\n",
       "    .dataframe tbody tr th:only-of-type {\n",
       "        vertical-align: middle;\n",
       "    }\n",
       "\n",
       "    .dataframe tbody tr th {\n",
       "        vertical-align: top;\n",
       "    }\n",
       "\n",
       "    .dataframe thead th {\n",
       "        text-align: right;\n",
       "    }\n",
       "</style>\n",
       "<table border=\"1\" class=\"dataframe\">\n",
       "  <thead>\n",
       "    <tr style=\"text-align: right;\">\n",
       "      <th>State</th>\n",
       "      <th>California</th>\n",
       "      <th>Florida</th>\n",
       "    </tr>\n",
       "    <tr>\n",
       "      <th>Department</th>\n",
       "      <th></th>\n",
       "      <th></th>\n",
       "    </tr>\n",
       "  </thead>\n",
       "  <tbody>\n",
       "    <tr>\n",
       "      <th>Accounts</th>\n",
       "      <td>NaN</td>\n",
       "      <td>253122.000000</td>\n",
       "    </tr>\n",
       "    <tr>\n",
       "      <th>Facilties</th>\n",
       "      <td>187112.0</td>\n",
       "      <td>NaN</td>\n",
       "    </tr>\n",
       "    <tr>\n",
       "      <th>HR</th>\n",
       "      <td>378123.0</td>\n",
       "      <td>142122.000000</td>\n",
       "    </tr>\n",
       "    <tr>\n",
       "      <th>Management</th>\n",
       "      <td>613221.0</td>\n",
       "      <td>NaN</td>\n",
       "    </tr>\n",
       "    <tr>\n",
       "      <th>Sales</th>\n",
       "      <td>164444.0</td>\n",
       "      <td>421211.000000</td>\n",
       "    </tr>\n",
       "    <tr>\n",
       "      <th>Technology</th>\n",
       "      <td>NaN</td>\n",
       "      <td>407548.666667</td>\n",
       "    </tr>\n",
       "  </tbody>\n",
       "</table>\n",
       "</div>"
      ],
      "text/plain": [
       "State       California        Florida\n",
       "Department                           \n",
       "Accounts           NaN  253122.000000\n",
       "Facilties     187112.0            NaN\n",
       "HR            378123.0  142122.000000\n",
       "Management    613221.0            NaN\n",
       "Sales         164444.0  421211.000000\n",
       "Technology         NaN  407548.666667"
      ]
     },
     "execution_count": 40,
     "metadata": {},
     "output_type": "execute_result"
    }
   ],
   "source": [
    "department_age_group_dual.mean().unstack()"
   ]
  },
  {
   "cell_type": "code",
   "execution_count": 51,
   "metadata": {},
   "outputs": [
    {
     "name": "stdout",
     "output_type": "stream",
     "text": [
      "Accounts   Name  Age  Annual Salary Department    State\n",
      "6  Bob   31         253122   Accounts  Florida\n",
      "Facilties   Name  Age  Annual Salary Department       State\n",
      "1  Jim   22         187112  Facilties  California\n",
      "HR        Name  Age  Annual Salary Department       State\n",
      "8      Paul   37         378123         HR  California\n",
      "9  Samantha   21         142122         HR     Florida\n",
      "Management   Name  Age  Annual Salary  Department       State\n",
      "4  Kim   51         613221  Management  California\n",
      "Sales    Name  Age  Annual Salary Department       State\n",
      "0  John   32         421211      Sales     Florida\n",
      "5  Lynn   23         164444      Sales  California\n",
      "Technology    Name  Age  Annual Salary  Department    State\n",
      "2   Joe   41         512111  Technology  Florida\n",
      "3  Jack   42         499123  Technology  Florida\n",
      "7  Adam   27         211412  Technology  Florida\n"
     ]
    }
   ],
   "source": [
    "for name, group in dataframe_student_info.groupby('Department'):\n",
    "    print(name, group)\n",
    "   "
   ]
  },
  {
   "cell_type": "code",
   "execution_count": 45,
   "metadata": {},
   "outputs": [
    {
     "ename": "AttributeError",
     "evalue": "Cannot access callable attribute 'groupby' of 'SeriesGroupBy' objects, try using the 'apply' method",
     "output_type": "error",
     "traceback": [
      "\u001b[1;31m---------------------------------------------------------------------------\u001b[0m",
      "\u001b[1;31mAttributeError\u001b[0m                            Traceback (most recent call last)",
      "\u001b[1;32m<ipython-input-45-5a4aa24856b2>\u001b[0m in \u001b[0;36m<module>\u001b[1;34m()\u001b[0m\n\u001b[1;32m----> 1\u001b[1;33m \u001b[0mdepartment_department_group\u001b[0m\u001b[1;33m.\u001b[0m\u001b[0mgroupby\u001b[0m\u001b[1;33m(\u001b[0m\u001b[1;34m'Department'\u001b[0m\u001b[1;33m)\u001b[0m\u001b[1;33m\u001b[0m\u001b[0m\n\u001b[0m",
      "\u001b[1;32m~\\Anaconda3\\lib\\site-packages\\pandas\\core\\groupby.py\u001b[0m in \u001b[0;36m__getattr__\u001b[1;34m(self, attr)\u001b[0m\n\u001b[0;32m    671\u001b[0m             \u001b[1;32mreturn\u001b[0m \u001b[0mself\u001b[0m\u001b[1;33m[\u001b[0m\u001b[0mattr\u001b[0m\u001b[1;33m]\u001b[0m\u001b[1;33m\u001b[0m\u001b[0m\n\u001b[0;32m    672\u001b[0m         \u001b[1;32mif\u001b[0m \u001b[0mhasattr\u001b[0m\u001b[1;33m(\u001b[0m\u001b[0mself\u001b[0m\u001b[1;33m.\u001b[0m\u001b[0mobj\u001b[0m\u001b[1;33m,\u001b[0m \u001b[0mattr\u001b[0m\u001b[1;33m)\u001b[0m\u001b[1;33m:\u001b[0m\u001b[1;33m\u001b[0m\u001b[0m\n\u001b[1;32m--> 673\u001b[1;33m             \u001b[1;32mreturn\u001b[0m \u001b[0mself\u001b[0m\u001b[1;33m.\u001b[0m\u001b[0m_make_wrapper\u001b[0m\u001b[1;33m(\u001b[0m\u001b[0mattr\u001b[0m\u001b[1;33m)\u001b[0m\u001b[1;33m\u001b[0m\u001b[0m\n\u001b[0m\u001b[0;32m    674\u001b[0m \u001b[1;33m\u001b[0m\u001b[0m\n\u001b[0;32m    675\u001b[0m         raise AttributeError(\"%r object has no attribute %r\" %\n",
      "\u001b[1;32m~\\Anaconda3\\lib\\site-packages\\pandas\\core\\groupby.py\u001b[0m in \u001b[0;36m_make_wrapper\u001b[1;34m(self, name)\u001b[0m\n\u001b[0;32m    685\u001b[0m                    \"using the 'apply' method\".format(kind, name,\n\u001b[0;32m    686\u001b[0m                                                      type(self).__name__))\n\u001b[1;32m--> 687\u001b[1;33m             \u001b[1;32mraise\u001b[0m \u001b[0mAttributeError\u001b[0m\u001b[1;33m(\u001b[0m\u001b[0mmsg\u001b[0m\u001b[1;33m)\u001b[0m\u001b[1;33m\u001b[0m\u001b[0m\n\u001b[0m\u001b[0;32m    688\u001b[0m \u001b[1;33m\u001b[0m\u001b[0m\n\u001b[0;32m    689\u001b[0m         \u001b[1;31m# need to setup the selection\u001b[0m\u001b[1;33m\u001b[0m\u001b[1;33m\u001b[0m\u001b[0m\n",
      "\u001b[1;31mAttributeError\u001b[0m: Cannot access callable attribute 'groupby' of 'SeriesGroupBy' objects, try using the 'apply' method"
     ]
    }
   ],
   "source": [
    "department_department_group.groupby('Department')"
   ]
  },
  {
   "cell_type": "code",
   "execution_count": null,
   "metadata": {},
   "outputs": [],
   "source": []
  }
 ],
 "metadata": {
  "kernelspec": {
   "display_name": "Python 3",
   "language": "python",
   "name": "python3"
  },
  "language_info": {
   "codemirror_mode": {
    "name": "ipython",
    "version": 3
   },
   "file_extension": ".py",
   "mimetype": "text/x-python",
   "name": "python",
   "nbconvert_exporter": "python",
   "pygments_lexer": "ipython3",
   "version": "3.6.4"
  }
 },
 "nbformat": 4,
 "nbformat_minor": 2
}
